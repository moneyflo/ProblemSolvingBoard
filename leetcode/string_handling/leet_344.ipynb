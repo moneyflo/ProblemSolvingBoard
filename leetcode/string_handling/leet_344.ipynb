{
  "nbformat": 4,
  "nbformat_minor": 0,
  "metadata": {
    "colab": {
      "name": "leet_344.ipynb",
      "provenance": [],
      "collapsed_sections": []
    },
    "kernelspec": {
      "name": "python3",
      "display_name": "Python 3"
    },
    "language_info": {
      "name": "python"
    }
  },
  "cells": [
    {
      "cell_type": "markdown",
      "source": [
        "# 344.Reverse String\n",
        "\n",
        "문자열을 뒤집는 함수 작성. 입력값은 문자 배열이며, 리턴 없이 리스트 내부를 직접 조작."
      ],
      "metadata": {
        "id": "Ajx1JnWJiBnm"
      }
    },
    {
      "cell_type": "markdown",
      "source": [
        "## My Sol\n",
        "\n",
        "### reverse() 사용\n",
        "\n",
        "Runtime: 189 ms, faster than 99.65% of Python3 online submissions for Reverse String.<br/>\n",
        "Memory Usage: 18.4 MB, less than 87.15% of Python3 online submissions for Reverse String."
      ],
      "metadata": {
        "id": "nFSniTCSiN9o"
      }
    },
    {
      "cell_type": "code",
      "execution_count": 11,
      "metadata": {
        "colab": {
          "base_uri": "https://localhost:8080/"
        },
        "id": "eqcEvG3kh8A4",
        "outputId": "4b5e87a8-3531-4be5-82ae-1f675e1383e4"
      },
      "outputs": [
        {
          "output_type": "stream",
          "name": "stdout",
          "text": [
            "['c', 'b', 'a']\n",
            "['c', 'b', 'a']\n"
          ]
        }
      ],
      "source": [
        "# 단순 reverse 함수 사용\n",
        "def reverseString(s):\n",
        "    s.reverse()\n",
        "    print(s)\n",
        "\n",
        "s1 = ['a', 'b', 'c']\n",
        "reverseString(s1)\n",
        "\n",
        "print(s1)"
      ]
    },
    {
      "cell_type": "markdown",
      "source": [
        "## 풀이 1: 투포인터를 이용한 스왑\n",
        "리스트 내부를 직접 조작하라는 제약사항 때문에 s 내부를 스왑하는 형태로 풀이<br/>\n",
        "\n",
        "Runtime: 455 ms, faster than 6.27% of Python3 online submissions for Reverse String.<br/>\n",
        "Memory Usage: 18.5 MB, less than 21.87% of Python3 online submissions for Reverse String."
      ],
      "metadata": {
        "id": "ZAOcF-mYkpu9"
      }
    },
    {
      "cell_type": "code",
      "source": [
        "def reverseString(s):\n",
        "    left, right = 0, len(s) - 1\n",
        "    while left < right:\n",
        "        s[left], s[right] = s[right], s[left]\n",
        "        left += 1\n",
        "        right -= 1\n",
        "\n",
        "s1 = ['a', 'b', 'c']\n",
        "reverseString(s1)"
      ],
      "metadata": {
        "id": "tl_zNvguk3Hr"
      },
      "execution_count": 12,
      "outputs": []
    },
    {
      "cell_type": "markdown",
      "source": [
        "## 풀이 2: 파이썬다운 방식\n",
        "\n",
        "내 풀이랑 동일함"
      ],
      "metadata": {
        "id": "TpEEHqmBlbag"
      }
    },
    {
      "cell_type": "markdown",
      "source": [
        "이 문제에서는 공간 복잡도를 O(1)으로 제한하고 있어 단순 슬라이싱을 사용하면 오류가뜸.<br/>\n",
        "다음과 같은 간단한 트릭으로 피할수도 있다.<br/>\n",
        " s[:] = s[::-1]"
      ],
      "metadata": {
        "id": "mEWyAmjplseg"
      }
    },
    {
      "cell_type": "code",
      "source": [
        "s1 = ['a', 'b', 'c']\n",
        "\n",
        "def a(s):\n",
        "    s[:] = s[::-1]\n",
        "\n",
        "a(s1)\n",
        "print(s1)"
      ],
      "metadata": {
        "colab": {
          "base_uri": "https://localhost:8080/"
        },
        "id": "hA2-0TbilKm0",
        "outputId": "79b3d480-082a-4582-d9d8-3cc898ca7818"
      },
      "execution_count": 14,
      "outputs": [
        {
          "output_type": "stream",
          "name": "stdout",
          "text": [
            "['c', 'b', 'a']\n"
          ]
        }
      ]
    },
    {
      "cell_type": "markdown",
      "source": [
        "코딩 플랫폼 마다 다른 특성을 가지므로 사전 테스트 시간이 주어지면 잘 활용할것"
      ],
      "metadata": {
        "id": "BbyDqLg7mK4B"
      }
    }
  ]
}